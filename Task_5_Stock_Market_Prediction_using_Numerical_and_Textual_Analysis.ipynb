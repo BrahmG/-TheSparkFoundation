{
  "nbformat": 4,
  "nbformat_minor": 0,
  "metadata": {
    "colab": {
      "name": "Task-5 Stock Market Prediction using Numerical and Textual Analysis.ipynb",
      "provenance": [],
      "collapsed_sections": [],
      "toc_visible": true
    },
    "kernelspec": {
      "name": "python3",
      "display_name": "Python 3"
    }
  },
  "cells": [
    {
      "cell_type": "markdown",
      "metadata": {
        "id": "SGC3M6Je3C7o"
      },
      "source": [
        "## Author : Braham Parkash\n",
        "\n",
        "## Data Science & Business Analytics Internship\n",
        "## GRIP - The Spark Foundation\n",
        "##Task-5 Stock Market Prediction using Numerical and Textual Analysis"
      ]
    },
    {
      "cell_type": "markdown",
      "metadata": {
        "id": "_jv9_TgvSQpK"
      },
      "source": [
        "## Objective: Create a hybrid model for stock price/performance prediction\n",
        "using numerical analysis of historical stock prices, and sentimental analysis of\n",
        "news headlines\n",
        "* Stock to analyze and predict - SENSEX (S&P BSE SENSEX)\n",
        "* Download historical stock prices from finance.yahoo.com\n",
        "* Download textual (news) data from https://bit.ly/36fFPI6"
      ]
    },
    {
      "cell_type": "code",
      "metadata": {
        "id": "gQuZc0JbSGs1",
        "colab": {
          "base_uri": "https://localhost:8080/",
          "height": 0
        },
        "outputId": "16efccb7-4056-48bc-b665-28c1168597f5"
      },
      "source": [
        "print('Importing Needed Packages')\n",
        "import pandas as pd\n",
        "import numpy as np\n",
        "import matplotlib.pyplot as plt\n",
        "import pylab as pl\n",
        "%matplotlib inline\n",
        "import seaborn as sns"
      ],
      "execution_count": 26,
      "outputs": [
        {
          "output_type": "stream",
          "text": [
            "Importing Needed Packages\n"
          ],
          "name": "stdout"
        }
      ]
    },
    {
      "cell_type": "code",
      "metadata": {
        "id": "8tzGmoaoZI5i"
      },
      "source": [
        "import matplotlib as mpl\n",
        "from matplotlib import style\n",
        "\n",
        "#Adjusting the size of matplotlib\n",
        "\n",
        "mpl.rc('figure', figsize = (15 , 15))\n",
        "mpl.__version__\n",
        "\n",
        "#Adjusting the style of matplotlib\n",
        "\n",
        "style.use('ggplot')"
      ],
      "execution_count": 27,
      "outputs": []
    },
    {
      "cell_type": "code",
      "metadata": {
        "id": "1-MMnZlpZNjq",
        "colab": {
          "base_uri": "https://localhost:8080/"
        },
        "outputId": "dd4c2afc-273b-4a7a-c451-15608672233e"
      },
      "source": [
        "!pip install pandas-datareader"
      ],
      "execution_count": null,
      "outputs": [
        {
          "output_type": "stream",
          "text": [
            "Requirement already satisfied: pandas-datareader in /usr/local/lib/python3.6/dist-packages (0.9.0)\n",
            "Requirement already satisfied: lxml in /usr/local/lib/python3.6/dist-packages (from pandas-datareader) (4.2.6)\n",
            "Requirement already satisfied: requests>=2.19.0 in /usr/local/lib/python3.6/dist-packages (from pandas-datareader) (2.23.0)\n",
            "Requirement already satisfied: pandas>=0.23 in /usr/local/lib/python3.6/dist-packages (from pandas-datareader) (1.1.4)\n",
            "Requirement already satisfied: certifi>=2017.4.17 in /usr/local/lib/python3.6/dist-packages (from requests>=2.19.0->pandas-datareader) (2020.6.20)\n",
            "Requirement already satisfied: urllib3!=1.25.0,!=1.25.1,<1.26,>=1.21.1 in /usr/local/lib/python3.6/dist-packages (from requests>=2.19.0->pandas-datareader) (1.24.3)\n",
            "Requirement already satisfied: chardet<4,>=3.0.2 in /usr/local/lib/python3.6/dist-packages (from requests>=2.19.0->pandas-datareader) (3.0.4)\n",
            "Requirement already satisfied: idna<3,>=2.5 in /usr/local/lib/python3.6/dist-packages (from requests>=2.19.0->pandas-datareader) (2.10)\n",
            "Requirement already satisfied: pytz>=2017.2 in /usr/local/lib/python3.6/dist-packages (from pandas>=0.23->pandas-datareader) (2018.9)\n",
            "Requirement already satisfied: numpy>=1.15.4 in /usr/local/lib/python3.6/dist-packages (from pandas>=0.23->pandas-datareader) (1.18.5)\n",
            "Requirement already satisfied: python-dateutil>=2.7.3 in /usr/local/lib/python3.6/dist-packages (from pandas>=0.23->pandas-datareader) (2.8.1)\n",
            "Requirement already satisfied: six>=1.5 in /usr/local/lib/python3.6/dist-packages (from python-dateutil>=2.7.3->pandas>=0.23->pandas-datareader) (1.15.0)\n"
          ],
          "name": "stdout"
        }
      ]
    },
    {
      "cell_type": "code",
      "metadata": {
        "id": "_EPPRKn3ZQUW"
      },
      "source": [
        "import datetime\n",
        "import pandas_datareader.data as web\n"
      ],
      "execution_count": null,
      "outputs": []
    },
    {
      "cell_type": "markdown",
      "metadata": {
        "id": "HJ8awP9mZ-NL"
      },
      "source": [
        "* Pandas web data reader is an extension of pandas library to communicate with most updated Financial Data"
      ]
    },
    {
      "cell_type": "code",
      "metadata": {
        "id": "tzsWJUnnZ7AT"
      },
      "source": [
        "start = datetime.datetime(2010, 1, 1)\n",
        "end = datetime.datetime(2020, 1, 13)"
      ],
      "execution_count": null,
      "outputs": []
    },
    {
      "cell_type": "code",
      "metadata": {
        "id": "yWvU4R3_aibO"
      },
      "source": [
        "df=web.DataReader('AAPL','yahoo',start,end)"
      ],
      "execution_count": null,
      "outputs": []
    },
    {
      "cell_type": "code",
      "metadata": {
        "id": "6Lgoi3uBarf9",
        "colab": {
          "base_uri": "https://localhost:8080/",
          "height": 227
        },
        "outputId": "c1cc6d7d-f1fa-4d9a-ba05-3bac24b5130e"
      },
      "source": [
        "df.head()"
      ],
      "execution_count": null,
      "outputs": [
        {
          "output_type": "execute_result",
          "data": {
            "text/html": [
              "<div>\n",
              "<style scoped>\n",
              "    .dataframe tbody tr th:only-of-type {\n",
              "        vertical-align: middle;\n",
              "    }\n",
              "\n",
              "    .dataframe tbody tr th {\n",
              "        vertical-align: top;\n",
              "    }\n",
              "\n",
              "    .dataframe thead th {\n",
              "        text-align: right;\n",
              "    }\n",
              "</style>\n",
              "<table border=\"1\" class=\"dataframe\">\n",
              "  <thead>\n",
              "    <tr style=\"text-align: right;\">\n",
              "      <th></th>\n",
              "      <th>High</th>\n",
              "      <th>Low</th>\n",
              "      <th>Open</th>\n",
              "      <th>Close</th>\n",
              "      <th>Volume</th>\n",
              "      <th>Adj Close</th>\n",
              "    </tr>\n",
              "    <tr>\n",
              "      <th>Date</th>\n",
              "      <th></th>\n",
              "      <th></th>\n",
              "      <th></th>\n",
              "      <th></th>\n",
              "      <th></th>\n",
              "      <th></th>\n",
              "    </tr>\n",
              "  </thead>\n",
              "  <tbody>\n",
              "    <tr>\n",
              "      <th>2010-01-04</th>\n",
              "      <td>7.660714</td>\n",
              "      <td>7.585000</td>\n",
              "      <td>7.622500</td>\n",
              "      <td>7.643214</td>\n",
              "      <td>493729600.0</td>\n",
              "      <td>6.539882</td>\n",
              "    </tr>\n",
              "    <tr>\n",
              "      <th>2010-01-05</th>\n",
              "      <td>7.699643</td>\n",
              "      <td>7.616071</td>\n",
              "      <td>7.664286</td>\n",
              "      <td>7.656428</td>\n",
              "      <td>601904800.0</td>\n",
              "      <td>6.551187</td>\n",
              "    </tr>\n",
              "    <tr>\n",
              "      <th>2010-01-06</th>\n",
              "      <td>7.686786</td>\n",
              "      <td>7.526786</td>\n",
              "      <td>7.656428</td>\n",
              "      <td>7.534643</td>\n",
              "      <td>552160000.0</td>\n",
              "      <td>6.446983</td>\n",
              "    </tr>\n",
              "    <tr>\n",
              "      <th>2010-01-07</th>\n",
              "      <td>7.571429</td>\n",
              "      <td>7.466072</td>\n",
              "      <td>7.562500</td>\n",
              "      <td>7.520714</td>\n",
              "      <td>477131200.0</td>\n",
              "      <td>6.435065</td>\n",
              "    </tr>\n",
              "    <tr>\n",
              "      <th>2010-01-08</th>\n",
              "      <td>7.571429</td>\n",
              "      <td>7.466429</td>\n",
              "      <td>7.510714</td>\n",
              "      <td>7.570714</td>\n",
              "      <td>447610800.0</td>\n",
              "      <td>6.477847</td>\n",
              "    </tr>\n",
              "  </tbody>\n",
              "</table>\n",
              "</div>"
            ],
            "text/plain": [
              "                High       Low      Open     Close       Volume  Adj Close\n",
              "Date                                                                      \n",
              "2010-01-04  7.660714  7.585000  7.622500  7.643214  493729600.0   6.539882\n",
              "2010-01-05  7.699643  7.616071  7.664286  7.656428  601904800.0   6.551187\n",
              "2010-01-06  7.686786  7.526786  7.656428  7.534643  552160000.0   6.446983\n",
              "2010-01-07  7.571429  7.466072  7.562500  7.520714  477131200.0   6.435065\n",
              "2010-01-08  7.571429  7.466429  7.510714  7.570714  447610800.0   6.477847"
            ]
          },
          "metadata": {
            "tags": []
          },
          "execution_count": 7
        }
      ]
    },
    {
      "cell_type": "code",
      "metadata": {
        "id": "lWpH9Wijaxq0",
        "colab": {
          "base_uri": "https://localhost:8080/",
          "height": 227
        },
        "outputId": "7e90cf54-2eea-48ea-ca75-63847b20b8ec"
      },
      "source": [
        "#Take a look at dataset\n",
        "\n",
        "df.tail()"
      ],
      "execution_count": null,
      "outputs": [
        {
          "output_type": "execute_result",
          "data": {
            "text/html": [
              "<div>\n",
              "<style scoped>\n",
              "    .dataframe tbody tr th:only-of-type {\n",
              "        vertical-align: middle;\n",
              "    }\n",
              "\n",
              "    .dataframe tbody tr th {\n",
              "        vertical-align: top;\n",
              "    }\n",
              "\n",
              "    .dataframe thead th {\n",
              "        text-align: right;\n",
              "    }\n",
              "</style>\n",
              "<table border=\"1\" class=\"dataframe\">\n",
              "  <thead>\n",
              "    <tr style=\"text-align: right;\">\n",
              "      <th></th>\n",
              "      <th>High</th>\n",
              "      <th>Low</th>\n",
              "      <th>Open</th>\n",
              "      <th>Close</th>\n",
              "      <th>Volume</th>\n",
              "      <th>Adj Close</th>\n",
              "    </tr>\n",
              "    <tr>\n",
              "      <th>Date</th>\n",
              "      <th></th>\n",
              "      <th></th>\n",
              "      <th></th>\n",
              "      <th></th>\n",
              "      <th></th>\n",
              "      <th></th>\n",
              "    </tr>\n",
              "  </thead>\n",
              "  <tbody>\n",
              "    <tr>\n",
              "      <th>2020-01-07</th>\n",
              "      <td>75.224998</td>\n",
              "      <td>74.370003</td>\n",
              "      <td>74.959999</td>\n",
              "      <td>74.597504</td>\n",
              "      <td>108872000.0</td>\n",
              "      <td>73.358185</td>\n",
              "    </tr>\n",
              "    <tr>\n",
              "      <th>2020-01-08</th>\n",
              "      <td>76.110001</td>\n",
              "      <td>74.290001</td>\n",
              "      <td>74.290001</td>\n",
              "      <td>75.797501</td>\n",
              "      <td>132079200.0</td>\n",
              "      <td>74.538239</td>\n",
              "    </tr>\n",
              "    <tr>\n",
              "      <th>2020-01-09</th>\n",
              "      <td>77.607498</td>\n",
              "      <td>76.550003</td>\n",
              "      <td>76.809998</td>\n",
              "      <td>77.407501</td>\n",
              "      <td>170108400.0</td>\n",
              "      <td>76.121498</td>\n",
              "    </tr>\n",
              "    <tr>\n",
              "      <th>2020-01-10</th>\n",
              "      <td>78.167503</td>\n",
              "      <td>77.062500</td>\n",
              "      <td>77.650002</td>\n",
              "      <td>77.582497</td>\n",
              "      <td>140644800.0</td>\n",
              "      <td>76.293579</td>\n",
              "    </tr>\n",
              "    <tr>\n",
              "      <th>2020-01-13</th>\n",
              "      <td>79.267502</td>\n",
              "      <td>77.787498</td>\n",
              "      <td>77.910004</td>\n",
              "      <td>79.239998</td>\n",
              "      <td>121532000.0</td>\n",
              "      <td>77.923538</td>\n",
              "    </tr>\n",
              "  </tbody>\n",
              "</table>\n",
              "</div>"
            ],
            "text/plain": [
              "                 High        Low       Open      Close       Volume  Adj Close\n",
              "Date                                                                          \n",
              "2020-01-07  75.224998  74.370003  74.959999  74.597504  108872000.0  73.358185\n",
              "2020-01-08  76.110001  74.290001  74.290001  75.797501  132079200.0  74.538239\n",
              "2020-01-09  77.607498  76.550003  76.809998  77.407501  170108400.0  76.121498\n",
              "2020-01-10  78.167503  77.062500  77.650002  77.582497  140644800.0  76.293579\n",
              "2020-01-13  79.267502  77.787498  77.910004  79.239998  121532000.0  77.923538"
            ]
          },
          "metadata": {
            "tags": []
          },
          "execution_count": 8
        }
      ]
    },
    {
      "cell_type": "markdown",
      "metadata": {
        "id": "y-UibsgveVaG"
      },
      "source": [
        "* Rolling Mean (Moving Average)\n",
        "to determine trend         \n",
        "  * The Moving Average makes the line smooth and showcase the increasing or decreasing trend of stocks price."
      ]
    },
    {
      "cell_type": "code",
      "metadata": {
        "id": "k9jk2YOabIUl",
        "colab": {
          "base_uri": "https://localhost:8080/"
        },
        "outputId": "05a2de91-d54d-43df-d5fe-9126d8e17d2e"
      },
      "source": [
        "rol_close=df['Close']\n",
        "mvg_avg=rol_close.rolling(100).mean()\n",
        "mvg_avg\n"
      ],
      "execution_count": null,
      "outputs": [
        {
          "output_type": "execute_result",
          "data": {
            "text/plain": [
              "Date\n",
              "2010-01-04          NaN\n",
              "2010-01-05          NaN\n",
              "2010-01-06          NaN\n",
              "2010-01-07          NaN\n",
              "2010-01-08          NaN\n",
              "                ...    \n",
              "2020-01-07    61.288825\n",
              "2020-01-08    61.542450\n",
              "2020-01-09    61.800275\n",
              "2020-01-10    62.050225\n",
              "2020-01-13    62.316725\n",
              "Name: Close, Length: 2524, dtype: float64"
            ]
          },
          "metadata": {
            "tags": []
          },
          "execution_count": 8
        }
      ]
    },
    {
      "cell_type": "code",
      "metadata": {
        "id": "5ZV5EkHthRQ8",
        "colab": {
          "base_uri": "https://localhost:8080/",
          "height": 810
        },
        "outputId": "e1a0a4b7-6df2-44b4-f71d-95f5e2049d98"
      },
      "source": [
        "rol_close.plot(label='AAPL')\n",
        "mvg_avg.plot(label='mvg')\n",
        "plt.legend(loc=0,fontsize=20)\n",
        "plt.show()"
      ],
      "execution_count": null,
      "outputs": [
        {
          "output_type": "display_data",
          "data": {
            "image/png": "[encoded data removed]",
            "text/plain": [
              "<Figure size 1080x1080 with 1 Axes>"
            ]
          },
          "metadata": {
            "tags": []
          }
        }
      ]
    },
    {
      "cell_type": "markdown",
      "metadata": {
        "id": "Zh6A9ZFBKpuT"
      },
      "source": [
        "In this chart, the Moving Average showcases increasing trend the upturn or downturn of stocks price. Logically, you should buy when the stocks are experiencing downturn and sell when the stock and experiencing upturn."
      ]
    },
    {
      "cell_type": "markdown",
      "metadata": {
        "id": "0ouFkWofKshR"
      },
      "source": [
        "\n",
        "## Return Deviation\n",
        "**to determine risk and return**                 \n",
        "\n",
        "Expected Return measures the mean, or expected value, of the probability distribution of investment returns. The expected return of a portfolio is calculated by multiplying the weight of each asset by its expected return and adding the values for each investment - investopedia"
      ]
    },
    {
      "cell_type": "code",
      "metadata": {
        "id": "Q_0AJrsShhk-",
        "colab": {
          "base_uri": "https://localhost:8080/",
          "height": 810
        },
        "outputId": "0152c8a0-48a8-4957-dc36-5a5d038a506e"
      },
      "source": [
        "returns=rol_close/rol_close.shift(1)-1\n",
        "returns.plot(label='return')\n",
        "plt.show()"
      ],
      "execution_count": null,
      "outputs": [
        {
          "output_type": "display_data",
          "data": {
            "image/png": "[encoded data removed]",
            "text/plain": [
              "<Figure size 1080x1080 with 1 Axes>"
            ]
          },
          "metadata": {
            "tags": []
          }
        }
      ]
    },
    {
      "cell_type": "markdown",
      "metadata": {
        "id": "vpUSLTUyLNuQ"
      },
      "source": [
        "logically, our ideal stocks should return as high and stable as possible. if you are risk averse, you might want to avoid this stocks as you saw the 10% drop in 2013. This decision is heavily subjected to your general sentiment of stocks and competitor analysis."
      ]
    },
    {
      "cell_type": "markdown",
      "metadata": {
        "id": "kfAQbqQHLP02"
      },
      "source": [
        "\n",
        "##Analysis Competitors Stocks\n",
        "In this segment , we are going to analyse on how one company performs in relative with its competitors. Let us assume we are interested in technology companies and want to compare the big guns: Apple, GE, Google, IBM, and Microsoft."
      ]
    },
    {
      "cell_type": "code",
      "metadata": {
        "id": "dFEJiNvlLIkv"
      },
      "source": [
        "df.comp=web.DataReader(['AAPL','GE','GOOG','IBM','MSFT'],'yahoo',start=start,end=end)['Adj Close']"
      ],
      "execution_count": null,
      "outputs": []
    },
    {
      "cell_type": "code",
      "metadata": {
        "id": "8QlfgXvgLsR9",
        "colab": {
          "base_uri": "https://localhost:8080/",
          "height": 376
        },
        "outputId": "2c5bd464-4234-4c6c-f4ef-51c16e4221af"
      },
      "source": [
        "df.comp.head(10)"
      ],
      "execution_count": null,
      "outputs": [
        {
          "output_type": "execute_result",
          "data": {
            "text/html": [
              "<div>\n",
              "<style scoped>\n",
              "    .dataframe tbody tr th:only-of-type {\n",
              "        vertical-align: middle;\n",
              "    }\n",
              "\n",
              "    .dataframe tbody tr th {\n",
              "        vertical-align: top;\n",
              "    }\n",
              "\n",
              "    .dataframe thead th {\n",
              "        text-align: right;\n",
              "    }\n",
              "</style>\n",
              "<table border=\"1\" class=\"dataframe\">\n",
              "  <thead>\n",
              "    <tr style=\"text-align: right;\">\n",
              "      <th>Symbols</th>\n",
              "      <th>AAPL</th>\n",
              "      <th>GE</th>\n",
              "      <th>GOOG</th>\n",
              "      <th>IBM</th>\n",
              "      <th>MSFT</th>\n",
              "    </tr>\n",
              "    <tr>\n",
              "      <th>Date</th>\n",
              "      <th></th>\n",
              "      <th></th>\n",
              "      <th></th>\n",
              "      <th></th>\n",
              "      <th></th>\n",
              "    </tr>\n",
              "  </thead>\n",
              "  <tbody>\n",
              "    <tr>\n",
              "      <th>2010-01-04</th>\n",
              "      <td>6.539882</td>\n",
              "      <td>10.840267</td>\n",
              "      <td>312.204773</td>\n",
              "      <td>92.163887</td>\n",
              "      <td>24.168472</td>\n",
              "    </tr>\n",
              "    <tr>\n",
              "      <th>2010-01-05</th>\n",
              "      <td>6.551187</td>\n",
              "      <td>10.896401</td>\n",
              "      <td>310.829926</td>\n",
              "      <td>91.050545</td>\n",
              "      <td>24.176279</td>\n",
              "    </tr>\n",
              "    <tr>\n",
              "      <th>2010-01-06</th>\n",
              "      <td>6.446983</td>\n",
              "      <td>10.840267</td>\n",
              "      <td>302.994293</td>\n",
              "      <td>90.459076</td>\n",
              "      <td>24.027906</td>\n",
              "    </tr>\n",
              "    <tr>\n",
              "      <th>2010-01-07</th>\n",
              "      <td>6.435065</td>\n",
              "      <td>11.401575</td>\n",
              "      <td>295.940735</td>\n",
              "      <td>90.145927</td>\n",
              "      <td>23.778025</td>\n",
              "    </tr>\n",
              "    <tr>\n",
              "      <th>2010-01-08</th>\n",
              "      <td>6.477847</td>\n",
              "      <td>11.647147</td>\n",
              "      <td>299.885956</td>\n",
              "      <td>91.050545</td>\n",
              "      <td>23.942017</td>\n",
              "    </tr>\n",
              "    <tr>\n",
              "      <th>2010-01-11</th>\n",
              "      <td>6.420702</td>\n",
              "      <td>11.759411</td>\n",
              "      <td>299.432648</td>\n",
              "      <td>90.097221</td>\n",
              "      <td>23.637472</td>\n",
              "    </tr>\n",
              "    <tr>\n",
              "      <th>2010-01-12</th>\n",
              "      <td>6.347667</td>\n",
              "      <td>11.766427</td>\n",
              "      <td>294.137512</td>\n",
              "      <td>90.813965</td>\n",
              "      <td>23.481291</td>\n",
              "    </tr>\n",
              "    <tr>\n",
              "      <th>2010-01-13</th>\n",
              "      <td>6.437204</td>\n",
              "      <td>11.808523</td>\n",
              "      <td>292.448822</td>\n",
              "      <td>90.619125</td>\n",
              "      <td>23.699940</td>\n",
              "    </tr>\n",
              "    <tr>\n",
              "      <th>2010-01-14</th>\n",
              "      <td>6.399921</td>\n",
              "      <td>11.717312</td>\n",
              "      <td>293.823669</td>\n",
              "      <td>92.066490</td>\n",
              "      <td>24.176279</td>\n",
              "    </tr>\n",
              "    <tr>\n",
              "      <th>2010-01-15</th>\n",
              "      <td>6.292967</td>\n",
              "      <td>11.534886</td>\n",
              "      <td>288.917053</td>\n",
              "      <td>91.697662</td>\n",
              "      <td>24.098186</td>\n",
              "    </tr>\n",
              "  </tbody>\n",
              "</table>\n",
              "</div>"
            ],
            "text/plain": [
              "Symbols         AAPL         GE        GOOG        IBM       MSFT\n",
              "Date                                                             \n",
              "2010-01-04  6.539882  10.840267  312.204773  92.163887  24.168472\n",
              "2010-01-05  6.551187  10.896401  310.829926  91.050545  24.176279\n",
              "2010-01-06  6.446983  10.840267  302.994293  90.459076  24.027906\n",
              "2010-01-07  6.435065  11.401575  295.940735  90.145927  23.778025\n",
              "2010-01-08  6.477847  11.647147  299.885956  91.050545  23.942017\n",
              "2010-01-11  6.420702  11.759411  299.432648  90.097221  23.637472\n",
              "2010-01-12  6.347667  11.766427  294.137512  90.813965  23.481291\n",
              "2010-01-13  6.437204  11.808523  292.448822  90.619125  23.699940\n",
              "2010-01-14  6.399921  11.717312  293.823669  92.066490  24.176279\n",
              "2010-01-15  6.292967  11.534886  288.917053  91.697662  24.098186"
            ]
          },
          "metadata": {
            "tags": []
          },
          "execution_count": 14
        }
      ]
    },
    {
      "cell_type": "markdown",
      "metadata": {
        "id": "Z3Pz733vL758"
      },
      "source": [
        "##Correlation Analysis\n",
        "#Does one competitor affect others?\n",
        "We can analyse the competition by running the percentage change and correlation function in pandas. Percentage change will find how the price changes compared to the previous day which defines returns. Knowing the correlation will help us see whether the returns are affected by other stocks returns\n"
      ]
    },
    {
      "cell_type": "code",
      "metadata": {
        "id": "mqg2swaOLsxM",
        "colab": {
          "base_uri": "https://localhost:8080/",
          "height": 227
        },
        "outputId": "2b74c14e-e1d2-4963-f3b4-bb9e424fa700"
      },
      "source": [
        "perc_change=df.comp.pct_change()\n",
        "change_corr=perc_change.corr()\n",
        "change_corr"
      ],
      "execution_count": null,
      "outputs": [
        {
          "output_type": "execute_result",
          "data": {
            "text/html": [
              "<div>\n",
              "<style scoped>\n",
              "    .dataframe tbody tr th:only-of-type {\n",
              "        vertical-align: middle;\n",
              "    }\n",
              "\n",
              "    .dataframe tbody tr th {\n",
              "        vertical-align: top;\n",
              "    }\n",
              "\n",
              "    .dataframe thead th {\n",
              "        text-align: right;\n",
              "    }\n",
              "</style>\n",
              "<table border=\"1\" class=\"dataframe\">\n",
              "  <thead>\n",
              "    <tr style=\"text-align: right;\">\n",
              "      <th>Symbols</th>\n",
              "      <th>AAPL</th>\n",
              "      <th>GE</th>\n",
              "      <th>GOOG</th>\n",
              "      <th>IBM</th>\n",
              "      <th>MSFT</th>\n",
              "    </tr>\n",
              "    <tr>\n",
              "      <th>Symbols</th>\n",
              "      <th></th>\n",
              "      <th></th>\n",
              "      <th></th>\n",
              "      <th></th>\n",
              "      <th></th>\n",
              "    </tr>\n",
              "  </thead>\n",
              "  <tbody>\n",
              "    <tr>\n",
              "      <th>AAPL</th>\n",
              "      <td>1.000000</td>\n",
              "      <td>0.318618</td>\n",
              "      <td>0.464934</td>\n",
              "      <td>0.384504</td>\n",
              "      <td>0.458352</td>\n",
              "    </tr>\n",
              "    <tr>\n",
              "      <th>GE</th>\n",
              "      <td>0.318618</td>\n",
              "      <td>1.000000</td>\n",
              "      <td>0.331045</td>\n",
              "      <td>0.433933</td>\n",
              "      <td>0.357665</td>\n",
              "    </tr>\n",
              "    <tr>\n",
              "      <th>GOOG</th>\n",
              "      <td>0.464934</td>\n",
              "      <td>0.331045</td>\n",
              "      <td>1.000000</td>\n",
              "      <td>0.406538</td>\n",
              "      <td>0.541099</td>\n",
              "    </tr>\n",
              "    <tr>\n",
              "      <th>IBM</th>\n",
              "      <td>0.384504</td>\n",
              "      <td>0.433933</td>\n",
              "      <td>0.406538</td>\n",
              "      <td>1.000000</td>\n",
              "      <td>0.490651</td>\n",
              "    </tr>\n",
              "    <tr>\n",
              "      <th>MSFT</th>\n",
              "      <td>0.458352</td>\n",
              "      <td>0.357665</td>\n",
              "      <td>0.541099</td>\n",
              "      <td>0.490651</td>\n",
              "      <td>1.000000</td>\n",
              "    </tr>\n",
              "  </tbody>\n",
              "</table>\n",
              "</div>"
            ],
            "text/plain": [
              "Symbols      AAPL        GE      GOOG       IBM      MSFT\n",
              "Symbols                                                  \n",
              "AAPL     1.000000  0.318618  0.464934  0.384504  0.458352\n",
              "GE       0.318618  1.000000  0.331045  0.433933  0.357665\n",
              "GOOG     0.464934  0.331045  1.000000  0.406538  0.541099\n",
              "IBM      0.384504  0.433933  0.406538  1.000000  0.490651\n",
              "MSFT     0.458352  0.357665  0.541099  0.490651  1.000000"
            ]
          },
          "metadata": {
            "tags": []
          },
          "execution_count": 27
        }
      ]
    },
    {
      "cell_type": "code",
      "metadata": {
        "id": "2EPWi9r6OO48",
        "colab": {
          "base_uri": "https://localhost:8080/",
          "height": 850
        },
        "outputId": "2e2c155e-ea9c-41ff-8c08-12c0aa90229f"
      },
      "source": [
        "plt.imshow(change_corr,cmap='hot',interpolation='none')\n",
        "plt.colorbar()\n",
        "plt.xticks(range(len(change_corr)),change_corr.columns)\n",
        "plt.yticks(range(len(change_corr)),change_corr.columns)\n",
        "plt.show()"
      ],
      "execution_count": null,
      "outputs": [
        {
          "output_type": "display_data",
          "data": {
            "image/png": "[encoded data removed]",
            "text/plain": [
              "<Figure size 1080x1080 with 2 Axes>"
            ]
          },
          "metadata": {
            "tags": []
          }
        }
      ]
    },
    {
      "cell_type": "markdown",
      "metadata": {
        "id": "QtMvRz3gPPxC"
      },
      "source": [
        "\n",
        "From the scatter matrix and heatmap, we can find great correlations among the competing stocks.However, this might not show causally, and could just show the trend in the technology industry rather than show how competing stocks affect each other."
      ]
    },
    {
      "cell_type": "markdown",
      "metadata": {
        "id": "IltcFYupPcek"
      },
      "source": [
        "## Stocks Return Rate and Risk\n",
        "Apart from correlation, we also analyse each stock's risks and returns. In this case we are extracting the average of returns (Return Rate) and the standard deviation of returns (Risk)"
      ]
    },
    {
      "cell_type": "code",
      "metadata": {
        "id": "DI4M6hehOx9z",
        "colab": {
          "base_uri": "https://localhost:8080/",
          "height": 880
        },
        "outputId": "fb2fab15-fb41-4247-d237-e5f1d7fb451b"
      },
      "source": [
        "plt.scatter(perc_change.mean(),perc_change.std())\n",
        "plt.xlabel('Expected Returns')\n",
        "plt.ylabel('Risk')\n",
        "for label, x, y in zip(perc_change.columns, perc_change.mean(), perc_change.std()):\n",
        "    plt.annotate(label, xy = (x , y), xytext = (20 , -20), textcoords = 'offset points',\n",
        "                 ha = 'right', va = 'bottom', bbox = dict(boxstyle = 'round, pad = 0.5', fc = 'yellow',\n",
        "                 alpha = 0.5), arrowprops = dict(arrowstyle = '->', connectionstyle = 'arc3, rad = 0'))"
      ],
      "execution_count": null,
      "outputs": [
        {
          "output_type": "display_data",
          "data": {
            "image/png": "[encoded data removed]",
            "text/plain": [
              "<Figure size 1080x1080 with 1 Axes>"
            ]
          },
          "metadata": {
            "tags": []
          }
        }
      ]
    },
    {
      "cell_type": "markdown",
      "metadata": {
        "id": "-21zRhnlQOxQ"
      },
      "source": [
        "##India-News-Headlines file imported and doing Numerical Analysis"
      ]
    },
    {
      "cell_type": "markdown",
      "metadata": {
        "id": "0B9QHjrcQe60"
      },
      "source": [
        ""
      ]
    },
    {
      "cell_type": "code",
      "metadata": {
        "id": "i2GgzQbKPnc-",
        "colab": {
          "base_uri": "https://localhost:8080/",
          "height": 0
        },
        "outputId": "34075209-8fe7-4588-c206-ab935ff29351"
      },
      "source": [
        "import pandas as pd\n",
        "news_df = pd.read_csv(\"india-news-headlines.csv\",engine='python',error_bad_lines=False)                "
      ],
      "execution_count": 19,
      "outputs": [
        {
          "output_type": "stream",
          "text": [
            "Skipping line 345965: unexpected end of data\n"
          ],
          "name": "stderr"
        }
      ]
    },
    {
      "cell_type": "code",
      "metadata": {
        "id": "zZJzTSGCQigg",
        "colab": {
          "base_uri": "https://localhost:8080/",
          "height": 197
        },
        "outputId": "b9ec88fd-a928-4e02-fcfa-3f6d46779b69"
      },
      "source": [
        "news_df.head()"
      ],
      "execution_count": 20,
      "outputs": [
        {
          "output_type": "execute_result",
          "data": {
            "text/html": [
              "<div>\n",
              "<style scoped>\n",
              "    .dataframe tbody tr th:only-of-type {\n",
              "        vertical-align: middle;\n",
              "    }\n",
              "\n",
              "    .dataframe tbody tr th {\n",
              "        vertical-align: top;\n",
              "    }\n",
              "\n",
              "    .dataframe thead th {\n",
              "        text-align: right;\n",
              "    }\n",
              "</style>\n",
              "<table border=\"1\" class=\"dataframe\">\n",
              "  <thead>\n",
              "    <tr style=\"text-align: right;\">\n",
              "      <th></th>\n",
              "      <th>publish_date</th>\n",
              "      <th>headline_category</th>\n",
              "      <th>headline_text</th>\n",
              "    </tr>\n",
              "  </thead>\n",
              "  <tbody>\n",
              "    <tr>\n",
              "      <th>0</th>\n",
              "      <td>20010101</td>\n",
              "      <td>sports.wwe</td>\n",
              "      <td>win over cena satisfying but defeating underta...</td>\n",
              "    </tr>\n",
              "    <tr>\n",
              "      <th>1</th>\n",
              "      <td>20010102</td>\n",
              "      <td>unknown</td>\n",
              "      <td>Status quo will not be disturbed at Ayodhya; s...</td>\n",
              "    </tr>\n",
              "    <tr>\n",
              "      <th>2</th>\n",
              "      <td>20010102</td>\n",
              "      <td>unknown</td>\n",
              "      <td>Fissures in Hurriyat over Pak visit</td>\n",
              "    </tr>\n",
              "    <tr>\n",
              "      <th>3</th>\n",
              "      <td>20010102</td>\n",
              "      <td>unknown</td>\n",
              "      <td>America's unwanted heading for India?</td>\n",
              "    </tr>\n",
              "    <tr>\n",
              "      <th>4</th>\n",
              "      <td>20010102</td>\n",
              "      <td>unknown</td>\n",
              "      <td>For bigwigs; it is destination Goa</td>\n",
              "    </tr>\n",
              "  </tbody>\n",
              "</table>\n",
              "</div>"
            ],
            "text/plain": [
              "   publish_date  ...                                      headline_text\n",
              "0      20010101  ...  win over cena satisfying but defeating underta...\n",
              "1      20010102  ...  Status quo will not be disturbed at Ayodhya; s...\n",
              "2      20010102  ...                Fissures in Hurriyat over Pak visit\n",
              "3      20010102  ...              America's unwanted heading for India?\n",
              "4      20010102  ...                 For bigwigs; it is destination Goa\n",
              "\n",
              "[5 rows x 3 columns]"
            ]
          },
          "metadata": {
            "tags": []
          },
          "execution_count": 20
        }
      ]
    },
    {
      "cell_type": "code",
      "metadata": {
        "id": "9PCOnvc2Qjs1",
        "colab": {
          "base_uri": "https://localhost:8080/",
          "height": 0
        },
        "outputId": "37b92b14-8746-4ff3-c343-e93c0a136d52"
      },
      "source": [
        "news_df.info()"
      ],
      "execution_count": 21,
      "outputs": [
        {
          "output_type": "stream",
          "text": [
            "<class 'pandas.core.frame.DataFrame'>\n",
            "RangeIndex: 345963 entries, 0 to 345962\n",
            "Data columns (total 3 columns):\n",
            " #   Column             Non-Null Count   Dtype \n",
            "---  ------             --------------   ----- \n",
            " 0   publish_date       345963 non-null  int64 \n",
            " 1   headline_category  345963 non-null  object\n",
            " 2   headline_text      345963 non-null  object\n",
            "dtypes: int64(1), object(2)\n",
            "memory usage: 7.9+ MB\n"
          ],
          "name": "stdout"
        }
      ]
    },
    {
      "cell_type": "code",
      "metadata": {
        "id": "P7GmN7qSQ7-8",
        "colab": {
          "base_uri": "https://localhost:8080/",
          "height": 286
        },
        "outputId": "f224c309-6cd5-451a-bd82-a7a6d76a9d57"
      },
      "source": [
        "news_df.describe()"
      ],
      "execution_count": null,
      "outputs": [
        {
          "output_type": "execute_result",
          "data": {
            "text/html": [
              "<div>\n",
              "<style scoped>\n",
              "    .dataframe tbody tr th:only-of-type {\n",
              "        vertical-align: middle;\n",
              "    }\n",
              "\n",
              "    .dataframe tbody tr th {\n",
              "        vertical-align: top;\n",
              "    }\n",
              "\n",
              "    .dataframe thead th {\n",
              "        text-align: right;\n",
              "    }\n",
              "</style>\n",
              "<table border=\"1\" class=\"dataframe\">\n",
              "  <thead>\n",
              "    <tr style=\"text-align: right;\">\n",
              "      <th></th>\n",
              "      <th>publish_date</th>\n",
              "    </tr>\n",
              "  </thead>\n",
              "  <tbody>\n",
              "    <tr>\n",
              "      <th>count</th>\n",
              "      <td>3.297172e+06</td>\n",
              "    </tr>\n",
              "    <tr>\n",
              "      <th>mean</th>\n",
              "      <td>2.012470e+07</td>\n",
              "    </tr>\n",
              "    <tr>\n",
              "      <th>std</th>\n",
              "      <td>4.896213e+04</td>\n",
              "    </tr>\n",
              "    <tr>\n",
              "      <th>min</th>\n",
              "      <td>2.001010e+07</td>\n",
              "    </tr>\n",
              "    <tr>\n",
              "      <th>25%</th>\n",
              "      <td>2.009101e+07</td>\n",
              "    </tr>\n",
              "    <tr>\n",
              "      <th>50%</th>\n",
              "      <td>2.013071e+07</td>\n",
              "    </tr>\n",
              "    <tr>\n",
              "      <th>75%</th>\n",
              "      <td>2.016110e+07</td>\n",
              "    </tr>\n",
              "    <tr>\n",
              "      <th>max</th>\n",
              "      <td>2.020063e+07</td>\n",
              "    </tr>\n",
              "  </tbody>\n",
              "</table>\n",
              "</div>"
            ],
            "text/plain": [
              "       publish_date\n",
              "count  3.297172e+06\n",
              "mean   2.012470e+07\n",
              "std    4.896213e+04\n",
              "min    2.001010e+07\n",
              "25%    2.009101e+07\n",
              "50%    2.013071e+07\n",
              "75%    2.016110e+07\n",
              "max    2.020063e+07"
            ]
          },
          "metadata": {
            "tags": []
          },
          "execution_count": 36
        }
      ]
    },
    {
      "cell_type": "code",
      "metadata": {
        "id": "KXkPe2Z4RGql",
        "colab": {
          "base_uri": "https://localhost:8080/"
        },
        "outputId": "3c01e8f6-95c8-48a1-ea95-6c00b3ca072c"
      },
      "source": [
        "news_df.isna().sum()"
      ],
      "execution_count": null,
      "outputs": [
        {
          "output_type": "execute_result",
          "data": {
            "text/plain": [
              "publish_date         0\n",
              "headline_category    0\n",
              "headline_text        0\n",
              "dtype: int64"
            ]
          },
          "metadata": {
            "tags": []
          },
          "execution_count": 42
        }
      ]
    },
    {
      "cell_type": "code",
      "metadata": {
        "id": "9Zxi4b2ORNxA",
        "colab": {
          "base_uri": "https://localhost:8080/"
        },
        "outputId": "18907247-4879-415b-95f2-4756d53ca23b"
      },
      "source": [
        "news_df.duplicated().sum()"
      ],
      "execution_count": null,
      "outputs": [
        {
          "output_type": "execute_result",
          "data": {
            "text/plain": [
              "21585"
            ]
          },
          "metadata": {
            "tags": []
          },
          "execution_count": 9
        }
      ]
    },
    {
      "cell_type": "code",
      "metadata": {
        "id": "2UYvbWWSRYwl",
        "colab": {
          "base_uri": "https://localhost:8080/"
        },
        "outputId": "d42ebbc2-5dc0-4e68-84bb-cce1a337577a"
      },
      "source": [
        "print('there are {} duplicated rows out of {} total rows in our dataset'.format(news_df.duplicated().sum(),df1.shape[0]))"
      ],
      "execution_count": null,
      "outputs": [
        {
          "output_type": "stream",
          "text": [
            "there are 21585 duplicated rows out of 3297172 total rows in our dataset\n"
          ],
          "name": "stdout"
        }
      ]
    },
    {
      "cell_type": "code",
      "metadata": {
        "id": "QNKayB8PR0t4",
        "colab": {
          "base_uri": "https://localhost:8080/",
          "height": 0
        },
        "outputId": "b38ec231-8cc2-46ab-d53b-3202835c82bf"
      },
      "source": [
        "print('remove duplicates')\n",
        "news_df.drop_duplicates(inplace=True)"
      ],
      "execution_count": 22,
      "outputs": [
        {
          "output_type": "stream",
          "text": [
            "remove duplicates\n"
          ],
          "name": "stdout"
        }
      ]
    },
    {
      "cell_type": "code",
      "metadata": {
        "id": "7md49MLdR9Yk",
        "colab": {
          "base_uri": "https://localhost:8080/",
          "height": 0
        },
        "outputId": "81a626a6-a942-4804-d06c-c434fb0ae9cc"
      },
      "source": [
        "news_df.duplicated().sum()"
      ],
      "execution_count": 23,
      "outputs": [
        {
          "output_type": "execute_result",
          "data": {
            "text/plain": [
              "0"
            ]
          },
          "metadata": {
            "tags": []
          },
          "execution_count": 23
        }
      ]
    },
    {
      "cell_type": "code",
      "metadata": {
        "id": "IL578xLbRP2L",
        "colab": {
          "base_uri": "https://localhost:8080/"
        },
        "outputId": "60f2e838-1e23-432e-f069-4e5df142f9a9"
      },
      "source": [
        "news_df.min()"
      ],
      "execution_count": null,
      "outputs": [
        {
          "output_type": "execute_result",
          "data": {
            "text/plain": [
              "publish_date                                20010101\n",
              "headline_category                   2008-in-pictures\n",
              "headline_text         15cr funds for two auditoriums\n",
              "dtype: object"
            ]
          },
          "metadata": {
            "tags": []
          },
          "execution_count": 48
        }
      ]
    },
    {
      "cell_type": "code",
      "metadata": {
        "id": "Amc8njBMRRPM",
        "colab": {
          "base_uri": "https://localhost:8080/"
        },
        "outputId": "b4f97341-85fd-4289-e163-83081cca0359"
      },
      "source": [
        "news_df.max()"
      ],
      "execution_count": null,
      "outputs": [
        {
          "output_type": "execute_result",
          "data": {
            "text/plain": [
              "publish_date                                                  20200630\n",
              "headline_category                                          young-turks\n",
              "headline_text        ~!The 7 Plexus Knots story in a Galaxy called ...\n",
              "dtype: object"
            ]
          },
          "metadata": {
            "tags": []
          },
          "execution_count": 49
        }
      ]
    },
    {
      "cell_type": "code",
      "metadata": {
        "id": "BIs4HqE1RS4P",
        "colab": {
          "base_uri": "https://localhost:8080/"
        },
        "outputId": "74f556cb-73cf-4102-a87e-6d27597f30ca"
      },
      "source": [
        "news_df.headline_category.unique()"
      ],
      "execution_count": null,
      "outputs": [
        {
          "output_type": "execute_result",
          "data": {
            "text/plain": [
              "array(['sports.wwe', 'unknown', 'entertainment.hindi.bollywood', ...,\n",
              "       'elections.assembly-elections.delhi-assembly-elections',\n",
              "       'elections.assembly-elections.delhi', 'life-style.coronavirus'],\n",
              "      dtype=object)"
            ]
          },
          "metadata": {
            "tags": []
          },
          "execution_count": 50
        }
      ]
    },
    {
      "cell_type": "code",
      "metadata": {
        "id": "LWK4Ll3DSHfY",
        "colab": {
          "base_uri": "https://localhost:8080/"
        },
        "outputId": "0c1e9959-cb21-421c-9e3e-38bf82a2b4c3"
      },
      "source": [
        "news_df.headline_text.unique()"
      ],
      "execution_count": null,
      "outputs": [
        {
          "output_type": "execute_result",
          "data": {
            "text/plain": [
              "array(['win over cena satisfying but defeating undertaker bigger roman reigns',\n",
              "       'Status quo will not be disturbed at Ayodhya; says Vajpayee',\n",
              "       'Fissures in Hurriyat over Pak visit', ...,\n",
              "       'kangana ranaut gets a doll version of herself her team shares manikarnika dolls are the new favourite for children',\n",
              "       'meezaan jaffrey reminisces his childhood days with his grandfather jagdeep with an adorable throwback picture',\n",
              "       'prabhas20 titled as radhe shyam prabhas and pooja hegde strike a romantic pose in the first look'],\n",
              "      dtype=object)"
            ]
          },
          "metadata": {
            "tags": []
          },
          "execution_count": 51
        }
      ]
    },
    {
      "cell_type": "code",
      "metadata": {
        "id": "pZObIWT9SLbl",
        "colab": {
          "base_uri": "https://localhost:8080/",
          "height": 77
        },
        "outputId": "6e00e294-ac94-4b18-c54f-0391dfbaa692"
      },
      "source": [
        "news_df.corr()"
      ],
      "execution_count": null,
      "outputs": [
        {
          "output_type": "execute_result",
          "data": {
            "text/html": [
              "<div>\n",
              "<style scoped>\n",
              "    .dataframe tbody tr th:only-of-type {\n",
              "        vertical-align: middle;\n",
              "    }\n",
              "\n",
              "    .dataframe tbody tr th {\n",
              "        vertical-align: top;\n",
              "    }\n",
              "\n",
              "    .dataframe thead th {\n",
              "        text-align: right;\n",
              "    }\n",
              "</style>\n",
              "<table border=\"1\" class=\"dataframe\">\n",
              "  <thead>\n",
              "    <tr style=\"text-align: right;\">\n",
              "      <th></th>\n",
              "      <th>publish_date</th>\n",
              "    </tr>\n",
              "  </thead>\n",
              "  <tbody>\n",
              "    <tr>\n",
              "      <th>publish_date</th>\n",
              "      <td>1.0</td>\n",
              "    </tr>\n",
              "  </tbody>\n",
              "</table>\n",
              "</div>"
            ],
            "text/plain": [
              "              publish_date\n",
              "publish_date           1.0"
            ]
          },
          "metadata": {
            "tags": []
          },
          "execution_count": 52
        }
      ]
    },
    {
      "cell_type": "code",
      "metadata": {
        "id": "xrCTXi2eSPIx",
        "colab": {
          "base_uri": "https://localhost:8080/",
          "height": 197
        },
        "outputId": "5e974c37-eadf-4151-8693-b396e0b3e9c9"
      },
      "source": [
        "sns.set_palette('dark')\n",
        "sns.pairplot(news_df)\n",
        "plt.show()"
      ],
      "execution_count": 30,
      "outputs": [
        {
          "output_type": "display_data",
          "data": {
            "image/png": "[encoded data removed]",
            "text/plain": [
              "<Figure size 180x180 with 2 Axes>"
            ]
          },
          "metadata": {
            "tags": []
          }
        }
      ]
    },
    {
      "cell_type": "code",
      "metadata": {
        "id": "_DXfJisXSTwN",
        "colab": {
          "base_uri": "https://localhost:8080/",
          "height": 0
        },
        "outputId": "aa9f2935-64a2-4146-9a4a-27ab3c475d47"
      },
      "source": [
        "news_df.headline_category.value_counts()"
      ],
      "execution_count": 31,
      "outputs": [
        {
          "output_type": "execute_result",
          "data": {
            "text/plain": [
              "unknown                              47817\n",
              "india                                46588\n",
              "city.bengaluru                       20410\n",
              "city.hyderabad                       19392\n",
              "business.india-business              18888\n",
              "                                     ...  \n",
              "tech.computing                           1\n",
              "life-style.health-fitness.health         1\n",
              "life-style.health-fitness.fitness        1\n",
              "gurcharan-das.men-ideas                  1\n",
              "tech.it-services                         1\n",
              "Name: headline_category, Length: 144, dtype: int64"
            ]
          },
          "metadata": {
            "tags": []
          },
          "execution_count": 31
        }
      ]
    },
    {
      "cell_type": "code",
      "metadata": {
        "id": "iyLJQSe0Sm0j",
        "colab": {
          "base_uri": "https://localhost:8080/"
        },
        "outputId": "e6649307-0020-484e-8f63-1842e5f3bfac"
      },
      "source": [
        "news_df.headline_text.value_counts()"
      ],
      "execution_count": null,
      "outputs": [
        {
          "output_type": "execute_result",
          "data": {
            "text/plain": [
              "Sunny Leone HOT photos                                98\n",
              "Football: Italian Serie A table                       87\n",
              "Football: Spanish La Liga table                       84\n",
              "Intraday targets/key levels                           81\n",
              "Football: French Ligue 1 table                        73\n",
              "                                                      ..\n",
              "No promotion: Teachers stage agitation                 1\n",
              "Overbridges will not spill over pvt land               1\n",
              "Neighbour rapes 3-year-old girl in Khandwa; booked     1\n",
              "Marathi actor Nevrekar no more                         1\n",
              "How does HIV virus evade immune system                 1\n",
              "Name: headline_text, Length: 3082589, dtype: int64"
            ]
          },
          "metadata": {
            "tags": []
          },
          "execution_count": 58
        }
      ]
    },
    {
      "cell_type": "code",
      "metadata": {
        "id": "qEMG6ykiSc9w",
        "colab": {
          "base_uri": "https://localhost:8080/"
        },
        "outputId": "1b8f5485-d247-4250-96fb-7b0a81bd9599"
      },
      "source": [
        "news_df.headline_text.value_counts().nlargest(20)"
      ],
      "execution_count": null,
      "outputs": [
        {
          "output_type": "execute_result",
          "data": {
            "text/plain": [
              "Sunny Leone HOT photos                       98\n",
              "Football: Italian Serie A table              87\n",
              "Football: Spanish La Liga table              84\n",
              "Intraday targets/key levels                  81\n",
              "Football: French Ligue 1 table               73\n",
              "RBI-MONEY-MARKET-OPERATION                   71\n",
              "Column: Tongue in Check                      68\n",
              "Your Say                                     64\n",
              "Watch top news in one-minute                 63\n",
              "Watch: Top news in one-minute                63\n",
              "Official Site                                59\n",
              "RBI-MONEY MARKET OPERATION                   59\n",
              "Football: South African Premiership table    56\n",
              "Who039s up                                   56\n",
              "Football: English Premier League table       55\n",
              "Football: German Bundesliga table            55\n",
              "Jest in Case                                 53\n",
              "U.S. cash crude deals                        52\n",
              "Woman commits suicide                        51\n",
              "Who039s down                                 49\n",
              "Name: headline_text, dtype: int64"
            ]
          },
          "metadata": {
            "tags": []
          },
          "execution_count": 57
        }
      ]
    },
    {
      "cell_type": "markdown",
      "metadata": {
        "id": "A4UJZFb6S0Nc"
      },
      "source": [
        "## Exploratory Data Analysis using NLP and NLTK tools"
      ]
    },
    {
      "cell_type": "code",
      "metadata": {
        "id": "6vJ2gDK_Svm6"
      },
      "source": [
        "news_df['headline_text_len']=news_df.headline_text.str.len()"
      ],
      "execution_count": 33,
      "outputs": []
    },
    {
      "cell_type": "code",
      "metadata": {
        "id": "ofsBPm67SgQE"
      },
      "source": [
        "news_df['headline_category_len']=news_df.headline_category.str.len()"
      ],
      "execution_count": 34,
      "outputs": []
    },
    {
      "cell_type": "code",
      "metadata": {
        "id": "kCKFZhHRTAuW",
        "colab": {
          "base_uri": "https://localhost:8080/",
          "height": 862
        },
        "outputId": "1480fcb5-2659-44dc-e35d-af537a050f91"
      },
      "source": [
        "news_df['headline_text_len'].hist()\n",
        "plt.show()"
      ],
      "execution_count": 35,
      "outputs": [
        {
          "output_type": "display_data",
          "data": {
            "image/png": "[encoded data removed]",
            "text/plain": [
              "<Figure size 1080x1080 with 1 Axes>"
            ]
          },
          "metadata": {
            "tags": []
          }
        }
      ]
    },
    {
      "cell_type": "code",
      "metadata": {
        "id": "YmjMm1-iTD5s",
        "colab": {
          "base_uri": "https://localhost:8080/",
          "height": 862
        },
        "outputId": "82a45012-7a04-426e-8906-fb007a9ff2eb"
      },
      "source": [
        "news_df['headline_category_len'].hist()\n",
        "plt.show()"
      ],
      "execution_count": 36,
      "outputs": [
        {
          "output_type": "display_data",
          "data": {
            "image/png": "[encoded data removed]",
            "text/plain": [
              "<Figure size 1080x1080 with 1 Axes>"
            ]
          },
          "metadata": {
            "tags": []
          }
        }
      ]
    },
    {
      "cell_type": "code",
      "metadata": {
        "id": "zeJAJRs-Wq4w"
      },
      "source": [
        "news_df['headline_text_wordlen']=news_df.headline_text.str.split(' ').str.len().map(lambda x : np.mean(x))\n"
      ],
      "execution_count": 37,
      "outputs": []
    },
    {
      "cell_type": "code",
      "metadata": {
        "id": "GAax9aCYTKqu",
        "colab": {
          "base_uri": "https://localhost:8080/",
          "height": 862
        },
        "outputId": "f6606070-1e0a-4528-f060-3c31a794b911"
      },
      "source": [
        "news_df['headline_text'].str.split().\\\n",
        "    apply(lambda x : [len(i) for i in x]).\\\n",
        "    map(lambda x : np.mean(x)).hist()\n",
        "plt.show()"
      ],
      "execution_count": 38,
      "outputs": [
        {
          "output_type": "display_data",
          "data": {
            "image/png": "[encoded data removed]",
            "text/plain": [
              "<Figure size 1080x1080 with 1 Axes>"
            ]
          },
          "metadata": {
            "tags": []
          }
        }
      ]
    },
    {
      "cell_type": "code",
      "metadata": {
        "id": "CGwJthwsTbU9",
        "colab": {
          "base_uri": "https://localhost:8080/",
          "height": 0
        },
        "outputId": "a6991238-bda5-459e-cf3d-26fa66e4c39f"
      },
      "source": [
        "import nltk\n",
        "from nltk.corpus import stopwords\n",
        "nltk.download('stopwords')\n",
        "stop=set(stopwords.words('english'))"
      ],
      "execution_count": 39,
      "outputs": [
        {
          "output_type": "stream",
          "text": [
            "[nltk_data] Downloading package stopwords to /root/nltk_data...\n",
            "[nltk_data]   Unzipping corpora/stopwords.zip.\n"
          ],
          "name": "stdout"
        }
      ]
    },
    {
      "cell_type": "code",
      "metadata": {
        "id": "3i-4HLO_bIwA"
      },
      "source": [
        "corpus = []\n",
        "full_text = news_df['headline_text'].str.split()\n",
        "full_text = full_text.values.tolist()\n",
        "corpus = [word for i in full_text for word in i]"
      ],
      "execution_count": 42,
      "outputs": []
    },
    {
      "cell_type": "code",
      "metadata": {
        "id": "NWkl8TTHbIzs"
      },
      "source": [
        "from collections import defaultdict\n",
        "\n",
        "dict = defaultdict(int)\n",
        "for word in corpus:\n",
        "    if word in stop:\n",
        "        dict[word]+=1"
      ],
      "execution_count": 43,
      "outputs": []
    },
    {
      "cell_type": "markdown",
      "metadata": {
        "id": "-k6huIfUFXcU"
      },
      "source": [
        "Now we know which stopwords occur frquently in our text, let's inspect which words other than these stopwords occur frequently. We will use the counter function from the collection library to count and store the occurrences of each word in a list of tupples."
      ]
    },
    {
      "cell_type": "code",
      "metadata": {
        "id": "2Kax-H6rWiAz"
      },
      "source": [
        "from collections import Counter\n",
        "\n",
        "counter = Counter(corpus)\n",
        "most = counter.most_common()\n",
        "x, y = [], []\n",
        "for word, count in most[:40]:\n",
        "    if (word not in stop):\n",
        "        x.append(word)\n",
        "        y.append(count)"
      ],
      "execution_count": 46,
      "outputs": []
    },
    {
      "cell_type": "code",
      "metadata": {
        "colab": {
          "base_uri": "https://localhost:8080/",
          "height": 862
        },
        "id": "I5b-b6RtK4dq",
        "outputId": "7aff592d-5345-4231-dacc-885729ba8295"
      },
      "source": [
        "sns.barplot(x = y , y = x)\n",
        "plt.show()"
      ],
      "execution_count": 47,
      "outputs": [
        {
          "output_type": "display_data",
          "data": {
            "image/png": "[encoded data removed]",
            "text/plain": [
              "<Figure size 1080x1080 with 1 Axes>"
            ]
          },
          "metadata": {
            "tags": []
          }
        }
      ]
    },
    {
      "cell_type": "markdown",
      "metadata": {
        "id": "WziuMiQFLA-q"
      },
      "source": [
        "Words like India,Bjp, Govt have been dominating the headlines since last 15 years"
      ]
    },
    {
      "cell_type": "markdown",
      "metadata": {
        "id": "Vupatw8DK-nD"
      },
      "source": [
        "##Ngram Exploration\n",
        "Ngram are simply contiguous sequences of n words. For example \"riverbank\", \"The three muskedteers\" etc. If the number of words is 2, It is called bigram. For 3 words it is called a trigram and so on."
      ]
    },
    {
      "cell_type": "code",
      "metadata": {
        "id": "H41bFdNAK4il"
      },
      "source": [
        "from sklearn.feature_extraction.text import CountVectorizer\n",
        "def top_ngram_from_data(corpus, k = None):\n",
        "    count_vec = CountVectorizer(ngram_range = (k , k)).fit(corpus)\n",
        "    bag_of_words = count_vec.transform(corpus)\n",
        "    sum_words = bag_of_words.sum(axis = 0)\n",
        "    words_freq = [(word, sum_words[0, idx])\n",
        "                  for word, idx in count_vec.vocabulary_.items()]\n",
        "    words_freq = sorted(words_freq, key = lambda x : x[1], reverse = True)\n",
        "    return words_freq[:10]"
      ],
      "execution_count": 50,
      "outputs": []
    },
    {
      "cell_type": "code",
      "metadata": {
        "colab": {
          "base_uri": "https://localhost:8080/",
          "height": 862
        },
        "id": "1u5OAexxK4mH",
        "outputId": "c4561c56-ba1f-4d6b-8db4-cf4ef2138f93"
      },
      "source": [
        "k_top_bigrams = top_ngram_from_data(news_df['headline_text'], 2)[:10]\n",
        "x,y = map(list, zip(*k_top_bigrams))\n",
        "sns.barplot(x = y, y = x)\n",
        "plt.show()"
      ],
      "execution_count": 51,
      "outputs": [
        {
          "output_type": "display_data",
          "data": {
            "image/png": "[encoded data removed]",
            "text/plain": [
              "<Figure size 1080x1080 with 1 Axes>"
            ]
          },
          "metadata": {
            "tags": []
          }
        }
      ]
    },
    {
      "cell_type": "markdown",
      "metadata": {
        "id": "5C4w-JqkbN4U"
      },
      "source": [
        "## Textblob Sentiment Score"
      ]
    },
    {
      "cell_type": "code",
      "metadata": {
        "id": "_N5rDO61bQSQ",
        "colab": {
          "base_uri": "https://localhost:8080/",
          "height": 0
        },
        "outputId": "883db3d1-5913-41d3-fb04-7439ecd5ed90"
      },
      "source": [
        "!pip install Textblob"
      ],
      "execution_count": 44,
      "outputs": [
        {
          "output_type": "stream",
          "text": [
            "Requirement already satisfied: Textblob in /usr/local/lib/python3.6/dist-packages (0.15.3)\n",
            "Requirement already satisfied: nltk>=3.1 in /usr/local/lib/python3.6/dist-packages (from Textblob) (3.2.5)\n",
            "Requirement already satisfied: six in /usr/local/lib/python3.6/dist-packages (from nltk>=3.1->Textblob) (1.15.0)\n"
          ],
          "name": "stdout"
        }
      ]
    },
    {
      "cell_type": "code",
      "metadata": {
        "id": "0KAw1C91bSWh"
      },
      "source": [
        "from textblob import TextBlob\n"
      ],
      "execution_count": 52,
      "outputs": []
    },
    {
      "cell_type": "code",
      "metadata": {
        "id": "_6YiXNz5be4V",
        "colab": {
          "base_uri": "https://localhost:8080/",
          "height": 0
        },
        "outputId": "b9b80595-0075-44d5-ef31-6d2ad31236f4"
      },
      "source": [
        "TextBlob('raj is killing people').sentiment"
      ],
      "execution_count": 53,
      "outputs": [
        {
          "output_type": "execute_result",
          "data": {
            "text/plain": [
              "Sentiment(polarity=0.0, subjectivity=0.0)"
            ]
          },
          "metadata": {
            "tags": []
          },
          "execution_count": 53
        }
      ]
    },
    {
      "cell_type": "code",
      "metadata": {
        "id": "cfwMYBKabXXJ"
      },
      "source": [
        "def polarity_cal(text):\n",
        "  pol=TextBlob(text).sentiment.polarity\n",
        "  return pol\n",
        "news_df['Polarity_score']=news_df['headline_text'].apply(lambda x:polarity_cal(x))\n"
      ],
      "execution_count": 73,
      "outputs": []
    },
    {
      "cell_type": "code",
      "metadata": {
        "id": "-NJWVn4Eb6MZ",
        "colab": {
          "base_uri": "https://localhost:8080/",
          "height": 862
        },
        "outputId": "ace980ae-9be6-4094-d955-244babaea9b2"
      },
      "source": [
        "news_df['Polarity_score'].hist()\n",
        "plt.show()"
      ],
      "execution_count": 74,
      "outputs": [
        {
          "output_type": "display_data",
          "data": {
            "image/png": "[encoded data removed]",
            "text/plain": [
              "<Figure size 1080x1080 with 1 Axes>"
            ]
          },
          "metadata": {
            "tags": []
          }
        }
      ]
    },
    {
      "cell_type": "code",
      "metadata": {
        "id": "9ltWsS0tb8tH"
      },
      "source": [
        "def sentiment_cal(x):\n",
        "  \n",
        "  if x==0:\n",
        "    return 'neutral'\n",
        "\n",
        "  elif x<0:\n",
        "    return 'negative'\n",
        "\n",
        "  else:\n",
        "    return 'positive'     "
      ],
      "execution_count": 79,
      "outputs": []
    },
    {
      "cell_type": "code",
      "metadata": {
        "id": "2HIl-4CWdmdY"
      },
      "source": [
        "news_df['Polarity']=news_df['Polarity_score'].apply(lambda x: sentiment_cal(x))"
      ],
      "execution_count": 80,
      "outputs": []
    },
    {
      "cell_type": "code",
      "metadata": {
        "id": "wBJ-xAdVdvcP",
        "colab": {
          "base_uri": "https://localhost:8080/",
          "height": 862
        },
        "outputId": "71dc8cfe-6e2f-4cc8-9676-c9c921ebcc8d"
      },
      "source": [
        "plt.bar(news_df['Polarity'].value_counts().index,news_df['Polarity'].value_counts())\n",
        "plt.show()"
      ],
      "execution_count": 89,
      "outputs": [
        {
          "output_type": "display_data",
          "data": {
            "image/png": "[encoded data removed]",
            "text/plain": [
              "<Figure size 1080x1080 with 1 Axes>"
            ]
          },
          "metadata": {
            "tags": []
          }
        }
      ]
    },
    {
      "cell_type": "code",
      "metadata": {
        "id": "j3UCDF85d8z3",
        "colab": {
          "base_uri": "https://localhost:8080/",
          "height": 0
        },
        "outputId": "675c96fb-d984-4530-9e56-e3cf56055fb1"
      },
      "source": [
        "news_df[news_df['Polarity'] == 'positive']['headline_text'].head()"
      ],
      "execution_count": 84,
      "outputs": [
        {
          "output_type": "execute_result",
          "data": {
            "text/plain": [
              "0     win over cena satisfying but defeating underta...\n",
              "5                  Extra buses to clear tourist traffic\n",
              "13          Will Qureshi's return really help the govt?\n",
              "53                Come to Nandi Hills...and you can fly\n",
              "54               HAL approached for super jumbo project\n",
              "Name: headline_text, dtype: object"
            ]
          },
          "metadata": {
            "tags": []
          },
          "execution_count": 84
        }
      ]
    },
    {
      "cell_type": "code",
      "metadata": {
        "colab": {
          "base_uri": "https://localhost:8080/",
          "height": 0
        },
        "id": "PJtJyaQNPUnn",
        "outputId": "4cd48aeb-6352-48ce-94b5-8adcc3eadcb7"
      },
      "source": [
        "news_df[news_df['Polarity'] == 'negative']['headline_text'].head()"
      ],
      "execution_count": 86,
      "outputs": [
        {
          "output_type": "execute_result",
          "data": {
            "text/plain": [
              "66         Destroying myths and doubts on sexuality\n",
              "87         Powerless north India gropes in the dark\n",
              "105                        10-year-old girl missing\n",
              "132              Net lottery: A winner or a sucker?\n",
              "143    Mental illness can pass from parent to child\n",
              "Name: headline_text, dtype: object"
            ]
          },
          "metadata": {
            "tags": []
          },
          "execution_count": 86
        }
      ]
    },
    {
      "cell_type": "code",
      "metadata": {
        "id": "Jvqk8ESDPdxV"
      },
      "source": [
        ""
      ],
      "execution_count": null,
      "outputs": []
    }
  ]
}